{
 "cells": [
  {
   "cell_type": "code",
   "execution_count": 1,
   "metadata": {
    "ExecuteTime": {
     "end_time": "2020-05-19T10:16:29.642133Z",
     "start_time": "2020-05-19T10:16:25.086006Z"
    }
   },
   "outputs": [],
   "source": [
    "import numpy as np \n",
    "import matplotlib.pyplot as plt \n",
    "import matplotlib.colors as mcolors\n",
    "import pandas as pd \n",
    "import random\n",
    "import math\n",
    "import time\n",
    "import xgboost\n",
    "from sklearn.linear_model import LinearRegression, BayesianRidge\n",
    "from sklearn.model_selection import RandomizedSearchCV, train_test_split\n",
    "from sklearn.preprocessing import PolynomialFeatures\n",
    "from sklearn.tree import DecisionTreeRegressor\n",
    "from sklearn.svm import SVR\n",
    "from sklearn.metrics import mean_squared_error, mean_absolute_error\n",
    "import datetime\n",
    "import operator \n",
    "plt.style.use('fivethirtyeight')\n",
    "%matplotlib inline "
   ]
  },
  {
   "cell_type": "code",
   "execution_count": 2,
   "metadata": {
    "ExecuteTime": {
     "end_time": "2020-05-19T10:16:31.012344Z",
     "start_time": "2020-05-19T10:16:31.000336Z"
    }
   },
   "outputs": [],
   "source": [
    "data=pd.read_csv('StockDir/吉比特603444.ss.csv')"
   ]
  },
  {
   "cell_type": "code",
   "execution_count": 3,
   "metadata": {
    "ExecuteTime": {
     "end_time": "2020-05-19T10:16:32.118995Z",
     "start_time": "2020-05-19T10:16:32.008917Z"
    }
   },
   "outputs": [
    {
     "data": {
      "text/html": [
       "<div>\n",
       "<style scoped>\n",
       "    .dataframe tbody tr th:only-of-type {\n",
       "        vertical-align: middle;\n",
       "    }\n",
       "\n",
       "    .dataframe tbody tr th {\n",
       "        vertical-align: top;\n",
       "    }\n",
       "\n",
       "    .dataframe thead th {\n",
       "        text-align: right;\n",
       "    }\n",
       "</style>\n",
       "<table border=\"1\" class=\"dataframe\">\n",
       "  <thead>\n",
       "    <tr style=\"text-align: right;\">\n",
       "      <th></th>\n",
       "      <th>Date</th>\n",
       "      <th>High</th>\n",
       "      <th>Low</th>\n",
       "      <th>Open</th>\n",
       "      <th>Close</th>\n",
       "      <th>Volume</th>\n",
       "      <th>Adj Close</th>\n",
       "    </tr>\n",
       "  </thead>\n",
       "  <tbody>\n",
       "    <tr>\n",
       "      <th>0</th>\n",
       "      <td>2019-01-02</td>\n",
       "      <td>153.300003</td>\n",
       "      <td>148.080002</td>\n",
       "      <td>149.940002</td>\n",
       "      <td>152.009995</td>\n",
       "      <td>913352.0</td>\n",
       "      <td>145.215637</td>\n",
       "    </tr>\n",
       "    <tr>\n",
       "      <th>1</th>\n",
       "      <td>2019-01-03</td>\n",
       "      <td>153.000000</td>\n",
       "      <td>147.440002</td>\n",
       "      <td>150.699997</td>\n",
       "      <td>148.500000</td>\n",
       "      <td>938567.0</td>\n",
       "      <td>141.862534</td>\n",
       "    </tr>\n",
       "    <tr>\n",
       "      <th>2</th>\n",
       "      <td>2019-01-04</td>\n",
       "      <td>152.500000</td>\n",
       "      <td>146.000000</td>\n",
       "      <td>146.139999</td>\n",
       "      <td>151.710007</td>\n",
       "      <td>1030651.0</td>\n",
       "      <td>144.929062</td>\n",
       "    </tr>\n",
       "    <tr>\n",
       "      <th>3</th>\n",
       "      <td>2019-01-07</td>\n",
       "      <td>155.000000</td>\n",
       "      <td>145.889999</td>\n",
       "      <td>146.139999</td>\n",
       "      <td>153.259995</td>\n",
       "      <td>1155888.0</td>\n",
       "      <td>146.409775</td>\n",
       "    </tr>\n",
       "    <tr>\n",
       "      <th>4</th>\n",
       "      <td>2019-01-08</td>\n",
       "      <td>154.660004</td>\n",
       "      <td>150.509995</td>\n",
       "      <td>152.500000</td>\n",
       "      <td>151.250000</td>\n",
       "      <td>948885.0</td>\n",
       "      <td>144.489624</td>\n",
       "    </tr>\n",
       "  </tbody>\n",
       "</table>\n",
       "</div>"
      ],
      "text/plain": [
       "         Date        High         Low        Open       Close     Volume  \\\n",
       "0  2019-01-02  153.300003  148.080002  149.940002  152.009995   913352.0   \n",
       "1  2019-01-03  153.000000  147.440002  150.699997  148.500000   938567.0   \n",
       "2  2019-01-04  152.500000  146.000000  146.139999  151.710007  1030651.0   \n",
       "3  2019-01-07  155.000000  145.889999  146.139999  153.259995  1155888.0   \n",
       "4  2019-01-08  154.660004  150.509995  152.500000  151.250000   948885.0   \n",
       "\n",
       "    Adj Close  \n",
       "0  145.215637  \n",
       "1  141.862534  \n",
       "2  144.929062  \n",
       "3  146.409775  \n",
       "4  144.489624  "
      ]
     },
     "execution_count": 3,
     "metadata": {},
     "output_type": "execute_result"
    }
   ],
   "source": [
    "data.head()"
   ]
  },
  {
   "cell_type": "code",
   "execution_count": 4,
   "metadata": {
    "ExecuteTime": {
     "end_time": "2020-05-19T10:16:32.897736Z",
     "start_time": "2020-05-19T10:16:32.864714Z"
    }
   },
   "outputs": [
    {
     "name": "stdout",
     "output_type": "stream",
     "text": [
      "<class 'pandas.core.frame.DataFrame'>\n",
      "RangeIndex: 321 entries, 0 to 320\n",
      "Data columns (total 7 columns):\n",
      "Date         321 non-null object\n",
      "High         321 non-null float64\n",
      "Low          321 non-null float64\n",
      "Open         321 non-null float64\n",
      "Close        321 non-null float64\n",
      "Volume       321 non-null float64\n",
      "Adj Close    321 non-null float64\n",
      "dtypes: float64(6), object(1)\n",
      "memory usage: 17.7+ KB\n"
     ]
    }
   ],
   "source": [
    "data.info()"
   ]
  },
  {
   "cell_type": "code",
   "execution_count": 5,
   "metadata": {
    "ExecuteTime": {
     "end_time": "2020-05-19T10:16:33.674290Z",
     "start_time": "2020-05-19T10:16:33.667284Z"
    }
   },
   "outputs": [],
   "source": [
    "days=np.array([i for i in range(len(data['Date']))]).reshape(-1,1)\n",
    "\n",
    "price=np.array(data['Close']).reshape(-1,1)\n"
   ]
  },
  {
   "cell_type": "code",
   "execution_count": 6,
   "metadata": {
    "ExecuteTime": {
     "end_time": "2020-05-19T10:16:34.487867Z",
     "start_time": "2020-05-19T10:16:34.481862Z"
    }
   },
   "outputs": [],
   "source": [
    "days_in_future=10\n",
    "future_forcast = np.array([i  for i in range(len(days)+days_in_future)]).reshape(-1,1)\n",
    "adjusted_dates = future_forcast[:-10]"
   ]
  },
  {
   "cell_type": "code",
   "execution_count": 39,
   "metadata": {
    "ExecuteTime": {
     "end_time": "2020-05-19T14:10:55.858783Z",
     "start_time": "2020-05-19T14:10:55.853780Z"
    }
   },
   "outputs": [],
   "source": [
    "X_train,X_test,y_train,y_test=train_test_split(days,price,test_size=0.40,shuffle=False)"
   ]
  },
  {
   "cell_type": "code",
   "execution_count": 31,
   "metadata": {
    "ExecuteTime": {
     "end_time": "2020-05-19T14:07:47.479703Z",
     "start_time": "2020-05-19T14:07:47.468694Z"
    }
   },
   "outputs": [
    {
     "data": {
      "text/plain": [
       "array([[277.60998535],\n",
       "       [274.67999268],\n",
       "       [275.54000854],\n",
       "       [276.23001099],\n",
       "       [273.57000732],\n",
       "       [272.22000122],\n",
       "       [268.95001221],\n",
       "       [264.22000122],\n",
       "       [271.26000977],\n",
       "       [270.        ],\n",
       "       [261.98999023],\n",
       "       [263.88000488],\n",
       "       [262.        ],\n",
       "       [258.1000061 ],\n",
       "       [258.3999939 ],\n",
       "       [264.1000061 ],\n",
       "       [263.69000244],\n",
       "       [277.3500061 ],\n",
       "       [282.20001221],\n",
       "       [308.        ],\n",
       "       [310.16000366],\n",
       "       [318.5       ],\n",
       "       [316.38000488],\n",
       "       [310.6000061 ],\n",
       "       [311.75      ],\n",
       "       [302.48001099],\n",
       "       [300.47000122],\n",
       "       [293.26998901],\n",
       "       [293.73001099],\n",
       "       [290.01000977],\n",
       "       [291.97000122],\n",
       "       [294.80999756],\n",
       "       [300.35998535],\n",
       "       [306.14001465],\n",
       "       [307.6000061 ],\n",
       "       [305.1499939 ],\n",
       "       [297.38000488],\n",
       "       [299.70001221],\n",
       "       [322.22000122],\n",
       "       [313.13000488],\n",
       "       [318.5       ],\n",
       "       [319.98999023],\n",
       "       [313.77999878],\n",
       "       [305.        ],\n",
       "       [309.60998535],\n",
       "       [309.29000854],\n",
       "       [303.08999634],\n",
       "       [296.98999023],\n",
       "       [302.45001221],\n",
       "       [298.48999023],\n",
       "       [313.33999634],\n",
       "       [306.39001465],\n",
       "       [337.02999878],\n",
       "       [363.54998779],\n",
       "       [357.01998901],\n",
       "       [358.75      ],\n",
       "       [362.77999878],\n",
       "       [368.        ],\n",
       "       [369.04998779],\n",
       "       [369.97000122],\n",
       "       [365.45001221],\n",
       "       [367.        ],\n",
       "       [372.22000122],\n",
       "       [370.        ],\n",
       "       [368.48001099],\n",
       "       [372.5       ],\n",
       "       [352.5       ],\n",
       "       [371.07000732],\n",
       "       [370.35998535],\n",
       "       [405.88000488],\n",
       "       [413.83999634],\n",
       "       [410.22000122],\n",
       "       [409.5       ],\n",
       "       [419.        ],\n",
       "       [415.42001343],\n",
       "       [422.95001221],\n",
       "       [433.5       ],\n",
       "       [430.92999268],\n",
       "       [410.        ],\n",
       "       [416.5       ],\n",
       "       [445.98999023],\n",
       "       [436.20001221],\n",
       "       [423.01998901],\n",
       "       [400.5       ],\n",
       "       [422.88000488],\n",
       "       [418.20001221],\n",
       "       [415.88000488],\n",
       "       [426.11999512],\n",
       "       [417.8999939 ],\n",
       "       [413.26998901],\n",
       "       [416.38000488],\n",
       "       [400.        ],\n",
       "       [402.29998779],\n",
       "       [391.29998779],\n",
       "       [382.57998657],\n",
       "       [383.76998901],\n",
       "       [365.10998535],\n",
       "       [368.3999939 ],\n",
       "       [371.07000732],\n",
       "       [377.23999023],\n",
       "       [405.32998657],\n",
       "       [394.67999268],\n",
       "       [392.17999268],\n",
       "       [402.39001465],\n",
       "       [411.3500061 ],\n",
       "       [408.        ],\n",
       "       [394.88000488],\n",
       "       [410.39001465],\n",
       "       [413.6499939 ],\n",
       "       [408.01000977],\n",
       "       [395.04000854],\n",
       "       [418.66000366],\n",
       "       [423.        ],\n",
       "       [397.5       ],\n",
       "       [366.79998779],\n",
       "       [364.97000122],\n",
       "       [377.70001221],\n",
       "       [381.80999756],\n",
       "       [390.76998901],\n",
       "       [392.5       ],\n",
       "       [375.80999756],\n",
       "       [376.        ],\n",
       "       [375.45001221],\n",
       "       [373.1499939 ],\n",
       "       [377.91000366],\n",
       "       [380.22000122],\n",
       "       [384.8500061 ],\n",
       "       [380.44000244],\n",
       "       [378.76998901]])"
      ]
     },
     "execution_count": 31,
     "metadata": {},
     "output_type": "execute_result"
    }
   ],
   "source": [
    "y_test"
   ]
  },
  {
   "cell_type": "code",
   "execution_count": 11,
   "metadata": {
    "ExecuteTime": {
     "end_time": "2020-05-19T10:24:47.650820Z",
     "start_time": "2020-05-19T10:23:59.458303Z"
    }
   },
   "outputs": [
    {
     "name": "stdout",
     "output_type": "stream",
     "text": [
      "Fitting 3 folds for each of 30 candidates, totalling 90 fits\n"
     ]
    },
    {
     "name": "stderr",
     "output_type": "stream",
     "text": [
      "[Parallel(n_jobs=-1)]: Using backend LokyBackend with 4 concurrent workers.\n",
      "[Parallel(n_jobs=-1)]: Done  42 tasks      | elapsed:   29.1s\n",
      "[Parallel(n_jobs=-1)]: Done  90 out of  90 | elapsed:   47.0s finished\n",
      "g:\\python\\python37\\lib\\site-packages\\sklearn\\utils\\validation.py:760: DataConversionWarning: A column-vector y was passed when a 1d array was expected. Please change the shape of y to (n_samples, ), for example using ravel().\n",
      "  y = column_or_1d(y, warn=True)\n"
     ]
    },
    {
     "data": {
      "text/plain": [
       "RandomizedSearchCV(cv=3, error_score=nan,\n",
       "                   estimator=SVR(C=1.0, cache_size=200, coef0=0.0, degree=3,\n",
       "                                 epsilon=0.1, gamma='scale', kernel='poly',\n",
       "                                 max_iter=-1, shrinking=True, tol=0.001,\n",
       "                                 verbose=False),\n",
       "                   iid='deprecated', n_iter=30, n_jobs=-1,\n",
       "                   param_distributions={'C': [0.01, 0.1, 1], 'degree': [3],\n",
       "                                        'epsilon': [0.01, 0.1, 1],\n",
       "                                        'gamma': [0.01, 0.1, 1],\n",
       "                                        'shrinking': [True, False]},\n",
       "                   pre_dispatch='2*n_jobs', random_state=None, refit=True,\n",
       "                   return_train_score=True, scoring='neg_mean_squared_error',\n",
       "                   verbose=1)"
      ]
     },
     "execution_count": 11,
     "metadata": {},
     "output_type": "execute_result"
    }
   ],
   "source": [
    "\n",
    "c = [0.01, 0.1, 1]\n",
    "gamma = [0.01, 0.1, 1]\n",
    "epsilon = [0.01, 0.1, 1]\n",
    "shrinking = [True, False]\n",
    "degree = [3]\n",
    "svm_grid = { 'C': c, 'gamma' : gamma, 'epsilon': epsilon, 'shrinking' : shrinking,'degree':degree}# \n",
    "\n",
    "svm = SVR(kernel='poly')\n",
    "svm_search = RandomizedSearchCV(svm, svm_grid, scoring='neg_mean_squared_error', cv=3, return_train_score=True, n_jobs=-1, n_iter=30, verbose=1)\n",
    "svm_search.fit(X_train[-30:], y_train[-30:])\n"
   ]
  },
  {
   "cell_type": "code",
   "execution_count": 15,
   "metadata": {
    "ExecuteTime": {
     "end_time": "2020-05-19T10:43:31.680722Z",
     "start_time": "2020-05-19T10:43:31.674717Z"
    }
   },
   "outputs": [
    {
     "data": {
      "text/plain": [
       "{'shrinking': True, 'gamma': 0.01, 'epsilon': 1, 'degree': 3, 'C': 1}"
      ]
     },
     "execution_count": 15,
     "metadata": {},
     "output_type": "execute_result"
    }
   ],
   "source": [
    "svm_search.best_params_"
   ]
  },
  {
   "cell_type": "code",
   "execution_count": 16,
   "metadata": {
    "ExecuteTime": {
     "end_time": "2020-05-19T10:44:32.540947Z",
     "start_time": "2020-05-19T10:43:37.384773Z"
    }
   },
   "outputs": [
    {
     "name": "stderr",
     "output_type": "stream",
     "text": [
      "g:\\python\\python37\\lib\\site-packages\\sklearn\\utils\\validation.py:760: DataConversionWarning: A column-vector y was passed when a 1d array was expected. Please change the shape of y to (n_samples, ), for example using ravel().\n",
      "  y = column_or_1d(y, warn=True)\n"
     ]
    }
   ],
   "source": [
    "svm_confirmed = svm_search.best_estimator_\n",
    "svm_confirmed.fit(X_train,y_train)\n",
    "svm_pred = svm_confirmed.predict(future_forcast)"
   ]
  },
  {
   "cell_type": "code",
   "execution_count": 17,
   "metadata": {
    "ExecuteTime": {
     "end_time": "2020-05-19T10:44:33.051310Z",
     "start_time": "2020-05-19T10:44:32.543951Z"
    }
   },
   "outputs": [
    {
     "name": "stdout",
     "output_type": "stream",
     "text": [
      "MAE: 132.40303371283613\n",
      "MSE: 25667.135042200658\n"
     ]
    },
    {
     "data": {
      "image/png": "[encoded data removed]",
      "text/plain": [
       "<Figure size 432x288 with 1 Axes>"
      ]
     },
     "metadata": {
      "needs_background": "light"
     },
     "output_type": "display_data"
    }
   ],
   "source": [
    "svm_test_pred = svm_confirmed.predict(X_test)\n",
    "plt.plot(y_test)\n",
    "plt.plot(svm_test_pred)\n",
    "plt.legend(['Test Data','SVM Predictions'])\n",
    "print('MAE:',mean_absolute_error(svm_test_pred,y_test))\n",
    "print('MSE:',mean_squared_error(svm_test_pred,y_test))"
   ]
  },
  {
   "cell_type": "code",
   "execution_count": 41,
   "metadata": {
    "ExecuteTime": {
     "end_time": "2020-05-19T15:15:21.111406Z",
     "start_time": "2020-05-19T15:15:21.105401Z"
    }
   },
   "outputs": [],
   "source": [
    "poly = PolynomialFeatures(degree=3)\n",
    "poly_X_train = poly.fit_transform(X_train)\n",
    "poly_X_test = poly.fit_transform(X_test)\n",
    "poly_future_forcast = poly.fit_transform(future_forcast)"
   ]
  },
  {
   "cell_type": "code",
   "execution_count": 42,
   "metadata": {
    "ExecuteTime": {
     "end_time": "2020-05-19T15:15:23.269235Z",
     "start_time": "2020-05-19T15:15:23.262230Z"
    }
   },
   "outputs": [],
   "source": [
    "bayesian_poly = PolynomialFeatures(degree=4)\n",
    "bayesian_poly_X_train = bayesian_poly.fit_transform(X_train)\n",
    "bayesian_poly_X_test = bayesian_poly.fit_transform(X_test)\n",
    "bayesian_poly_future_forcast = bayesian_poly.fit_transform(future_forcast)"
   ]
  },
  {
   "cell_type": "code",
   "execution_count": 43,
   "metadata": {
    "ExecuteTime": {
     "end_time": "2020-05-19T15:15:29.065863Z",
     "start_time": "2020-05-19T15:15:28.656572Z"
    }
   },
   "outputs": [
    {
     "name": "stderr",
     "output_type": "stream",
     "text": [
      "g:\\python\\python37\\lib\\site-packages\\ipykernel_launcher.py:7: UserWarning: Legend does not support 'T' instances.\n",
      "A proxy artist may be used instead.\n",
      "See: http://matplotlib.org/users/legend_guide.html#creating-artists-specifically-for-adding-to-the-legend-aka-proxy-artists\n",
      "  import sys\n",
      "g:\\python\\python37\\lib\\site-packages\\ipykernel_launcher.py:7: UserWarning: Legend does not support 'e' instances.\n",
      "A proxy artist may be used instead.\n",
      "See: http://matplotlib.org/users/legend_guide.html#creating-artists-specifically-for-adding-to-the-legend-aka-proxy-artists\n",
      "  import sys\n",
      "g:\\python\\python37\\lib\\site-packages\\ipykernel_launcher.py:7: UserWarning: Legend does not support 's' instances.\n",
      "A proxy artist may be used instead.\n",
      "See: http://matplotlib.org/users/legend_guide.html#creating-artists-specifically-for-adding-to-the-legend-aka-proxy-artists\n",
      "  import sys\n",
      "g:\\python\\python37\\lib\\site-packages\\ipykernel_launcher.py:7: UserWarning: Legend does not support 't' instances.\n",
      "A proxy artist may be used instead.\n",
      "See: http://matplotlib.org/users/legend_guide.html#creating-artists-specifically-for-adding-to-the-legend-aka-proxy-artists\n",
      "  import sys\n",
      "g:\\python\\python37\\lib\\site-packages\\ipykernel_launcher.py:7: UserWarning: Legend does not support ' ' instances.\n",
      "A proxy artist may be used instead.\n",
      "See: http://matplotlib.org/users/legend_guide.html#creating-artists-specifically-for-adding-to-the-legend-aka-proxy-artists\n",
      "  import sys\n",
      "g:\\python\\python37\\lib\\site-packages\\ipykernel_launcher.py:7: UserWarning: Legend does not support 'D' instances.\n",
      "A proxy artist may be used instead.\n",
      "See: http://matplotlib.org/users/legend_guide.html#creating-artists-specifically-for-adding-to-the-legend-aka-proxy-artists\n",
      "  import sys\n",
      "g:\\python\\python37\\lib\\site-packages\\ipykernel_launcher.py:7: UserWarning: Legend does not support 'a' instances.\n",
      "A proxy artist may be used instead.\n",
      "See: http://matplotlib.org/users/legend_guide.html#creating-artists-specifically-for-adding-to-the-legend-aka-proxy-artists\n",
      "  import sys\n"
     ]
    },
    {
     "name": "stdout",
     "output_type": "stream",
     "text": [
      "MAE: 231.84885618088398\n",
      "MSE: 84199.11793355958\n"
     ]
    },
    {
     "data": {
      "image/png": "[encoded data removed]",
      "text/plain": [
       "<Figure size 432x288 with 1 Axes>"
      ]
     },
     "metadata": {
      "needs_background": "light"
     },
     "output_type": "display_data"
    }
   ],
   "source": [
    "linear_model = LinearRegression(normalize=True,fit_intercept=False)\n",
    "linear_model.fit(poly_X_train,y_train)\n",
    "test_linear_pred = linear_model.predict(poly_X_test)\n",
    "linear_pred = linear_model.predict(poly_future_forcast)\n",
    "plt.plot(y_test)\n",
    "plt.plot(test_linear_pred)\n",
    "plt.legend('Test Data','Linear Predictions')\n",
    "print('MAE:',mean_absolute_error(test_linear_pred,y_test))\n",
    "print('MSE:',mean_squared_error(test_linear_pred,y_test))"
   ]
  },
  {
   "cell_type": "code",
   "execution_count": 44,
   "metadata": {
    "ExecuteTime": {
     "end_time": "2020-05-19T15:15:32.179228Z",
     "start_time": "2020-05-19T15:15:32.173223Z"
    }
   },
   "outputs": [
    {
     "name": "stdout",
     "output_type": "stream",
     "text": [
      "[[ 1.35367187e+02  1.85740134e+00 -1.71841197e-02  6.29458547e-05]]\n"
     ]
    }
   ],
   "source": [
    "print(linear_model.coef_)"
   ]
  },
  {
   "cell_type": "code",
   "execution_count": 48,
   "metadata": {
    "ExecuteTime": {
     "end_time": "2020-05-19T15:16:05.833238Z",
     "start_time": "2020-05-19T15:15:57.220684Z"
    }
   },
   "outputs": [
    {
     "name": "stdout",
     "output_type": "stream",
     "text": [
      "Fitting 3 folds for each of 40 candidates, totalling 120 fits\n"
     ]
    },
    {
     "name": "stderr",
     "output_type": "stream",
     "text": [
      "[Parallel(n_jobs=-1)]: Using backend LokyBackend with 4 concurrent workers.\n",
      "[Parallel(n_jobs=-1)]: Done  42 tasks      | elapsed:    6.4s\n",
      "[Parallel(n_jobs=-1)]: Done 120 out of 120 | elapsed:    8.5s finished\n",
      "g:\\python\\python37\\lib\\site-packages\\sklearn\\utils\\validation.py:760: DataConversionWarning: A column-vector y was passed when a 1d array was expected. Please change the shape of y to (n_samples, ), for example using ravel().\n",
      "  y = column_or_1d(y, warn=True)\n"
     ]
    },
    {
     "data": {
      "text/plain": [
       "RandomizedSearchCV(cv=3, error_score=nan,\n",
       "                   estimator=BayesianRidge(alpha_1=1e-06, alpha_2=1e-06,\n",
       "                                           alpha_init=None, compute_score=False,\n",
       "                                           copy_X=True, fit_intercept=False,\n",
       "                                           lambda_1=1e-06, lambda_2=1e-06,\n",
       "                                           lambda_init=None, n_iter=300,\n",
       "                                           normalize=False, tol=0.001,\n",
       "                                           verbose=False),\n",
       "                   iid='deprecated', n_iter=40, n_jobs=-1,\n",
       "                   param_distributions={'alpha_1': [1e-07, 1e-06, 1e-05, 0.0001,\n",
       "                                                    0.001],\n",
       "                                        'alpha_2': [1e-07, 1e-06, 1e-05, 0.0001,\n",
       "                                                    0.001],\n",
       "                                        'lambda_1': [1e-07, 1e-06, 1e-05,\n",
       "                                                     0.0001, 0.001],\n",
       "                                        'lambda_2': [1e-07, 1e-06, 1e-05,\n",
       "                                                     0.0001, 0.001],\n",
       "                                        'normalize': [True, False],\n",
       "                                        'tol': [1e-06, 1e-05, 0.0001, 0.001,\n",
       "                                                0.01]},\n",
       "                   pre_dispatch='2*n_jobs', random_state=None, refit=True,\n",
       "                   return_train_score=True, scoring='neg_mean_squared_error',\n",
       "                   verbose=1)"
      ]
     },
     "execution_count": 48,
     "metadata": {},
     "output_type": "execute_result"
    }
   ],
   "source": [
    "tol = [1e-6, 1e-5, 1e-4, 1e-3, 1e-2]\n",
    "alpha_1 = [1e-7, 1e-6, 1e-5, 1e-4, 1e-3]\n",
    "alpha_2 = [1e-7, 1e-6, 1e-5, 1e-4, 1e-3]\n",
    "lambda_1 = [1e-7, 1e-6, 1e-5, 1e-4, 1e-3]\n",
    "lambda_2 = [1e-7, 1e-6, 1e-5, 1e-4, 1e-3]\n",
    "normalize = [True, False]\n",
    "\n",
    "bayesian_grid = {'tol': tol, 'alpha_1': alpha_1, 'alpha_2' : alpha_2, 'lambda_1': lambda_1, 'lambda_2' : lambda_2, \n",
    "                 'normalize' : normalize}\n",
    "bayesian = BayesianRidge(fit_intercept=False)\n",
    "bayesian_search = RandomizedSearchCV(bayesian,bayesian_grid,scoring='neg_mean_squared_error',cv=3,return_train_score=True,n_jobs=-1,n_iter=40,verbose=1)\n",
    "bayesian_search.fit(bayesian_poly_X_train,y_train)"
   ]
  },
  {
   "cell_type": "code",
   "execution_count": 49,
   "metadata": {
    "ExecuteTime": {
     "end_time": "2020-05-19T15:16:42.055526Z",
     "start_time": "2020-05-19T15:16:42.039516Z"
    }
   },
   "outputs": [
    {
     "data": {
      "text/plain": [
       "{'tol': 0.01,\n",
       " 'normalize': False,\n",
       " 'lambda_2': 1e-06,\n",
       " 'lambda_1': 0.001,\n",
       " 'alpha_2': 0.001,\n",
       " 'alpha_1': 1e-07}"
      ]
     },
     "execution_count": 49,
     "metadata": {},
     "output_type": "execute_result"
    }
   ],
   "source": [
    "bayesian_search.best_params_"
   ]
  },
  {
   "cell_type": "code",
   "execution_count": 50,
   "metadata": {
    "ExecuteTime": {
     "end_time": "2020-05-19T15:16:43.882157Z",
     "start_time": "2020-05-19T15:16:43.874150Z"
    }
   },
   "outputs": [
    {
     "name": "stdout",
     "output_type": "stream",
     "text": [
      "MAE: 218.35603780627926\n",
      "MSE: 73921.30339177266\n"
     ]
    }
   ],
   "source": [
    "bayesian_confirmed = bayesian_search.best_estimator_\n",
    "test_bayesian_pred = bayesian_confirmed.predict(bayesian_poly_X_test)\n",
    "bayesian_pred = bayesian_confirmed.predict(bayesian_poly_future_forcast)\n",
    "print('MAE:',mean_absolute_error(test_bayesian_pred,y_test))\n",
    "print('MSE:',mean_squared_error(test_bayesian_pred,y_test))"
   ]
  },
  {
   "cell_type": "code",
   "execution_count": 51,
   "metadata": {
    "ExecuteTime": {
     "end_time": "2020-05-19T15:16:46.438117Z",
     "start_time": "2020-05-19T15:16:45.975789Z"
    }
   },
   "outputs": [
    {
     "data": {
      "text/plain": [
       "<matplotlib.legend.Legend at 0x10f361bf98>"
      ]
     },
     "execution_count": 51,
     "metadata": {},
     "output_type": "execute_result"
    },
    {
     "data": {
      "image/png": "[encoded data removed]",
      "text/plain": [
       "<Figure size 432x288 with 1 Axes>"
      ]
     },
     "metadata": {
      "needs_background": "light"
     },
     "output_type": "display_data"
    }
   ],
   "source": [
    "plt.plot(y_test)\n",
    "plt.plot(test_bayesian_pred)\n",
    "plt.legend(['Test Data','Bayesian Ridge Polynormial Predictions'])"
   ]
  },
  {
   "cell_type": "code",
   "execution_count": null,
   "metadata": {},
   "outputs": [],
   "source": []
  }
 ],
 "metadata": {
  "kernelspec": {
   "display_name": "Python 3",
   "language": "python",
   "name": "python3"
  },
  "language_info": {
   "codemirror_mode": {
    "name": "ipython",
    "version": 3
   },
   "file_extension": ".py",
   "mimetype": "text/x-python",
   "name": "python",
   "nbconvert_exporter": "python",
   "pygments_lexer": "ipython3",
   "version": "3.7.2"
  }
 },
 "nbformat": 4,
 "nbformat_minor": 4
}
