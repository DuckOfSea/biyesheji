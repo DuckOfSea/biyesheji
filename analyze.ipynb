{
 "cells": [
  {
   "cell_type": "code",
   "execution_count": 2,
   "metadata": {
    "ExecuteTime": {
     "end_time": "2020-05-21T01:49:31.622495Z",
     "start_time": "2020-05-21T01:49:11.694533Z"
    }
   },
   "outputs": [],
   "source": [
    "import pandas as pd \n",
    "import numpy as np\n",
    "import matplotlib.pyplot as plt\n",
    "import seaborn as sns\n",
    "%matplotlib inline"
   ]
  },
  {
   "cell_type": "code",
   "execution_count": 4,
   "metadata": {
    "ExecuteTime": {
     "end_time": "2020-05-21T02:12:36.833138Z",
     "start_time": "2020-05-21T02:12:36.384284Z"
    }
   },
   "outputs": [],
   "source": [
    "data=pd.read_csv('stock.csv')"
   ]
  },
  {
   "cell_type": "code",
   "execution_count": 5,
   "metadata": {
    "ExecuteTime": {
     "end_time": "2020-05-21T02:12:40.868701Z",
     "start_time": "2020-05-21T02:12:40.328943Z"
    }
   },
   "outputs": [
    {
     "name": "stdout",
     "output_type": "stream",
     "text": [
      "<class 'pandas.core.frame.DataFrame'>\n",
      "RangeIndex: 290 entries, 0 to 289\n",
      "Data columns (total 8 columns):\n",
      "abbr          290 non-null object\n",
      "cir_cap       290 non-null float64\n",
      "cir_val       290 non-null float64\n",
      "code          290 non-null object\n",
      "main_scope    282 non-null object\n",
      "net_profit    287 non-null object\n",
      "tot_cap       290 non-null float64\n",
      "tot_val       290 non-null float64\n",
      "dtypes: float64(4), object(4)\n",
      "memory usage: 18.2+ KB\n"
     ]
    }
   ],
   "source": [
    "data.info()"
   ]
  },
  {
   "cell_type": "code",
   "execution_count": 6,
   "metadata": {
    "ExecuteTime": {
     "end_time": "2020-05-21T02:12:42.145150Z",
     "start_time": "2020-05-21T02:12:42.052435Z"
    }
   },
   "outputs": [
    {
     "data": {
      "text/html": [
       "<div>\n",
       "<style scoped>\n",
       "    .dataframe tbody tr th:only-of-type {\n",
       "        vertical-align: middle;\n",
       "    }\n",
       "\n",
       "    .dataframe tbody tr th {\n",
       "        vertical-align: top;\n",
       "    }\n",
       "\n",
       "    .dataframe thead th {\n",
       "        text-align: right;\n",
       "    }\n",
       "</style>\n",
       "<table border=\"1\" class=\"dataframe\">\n",
       "  <thead>\n",
       "    <tr style=\"text-align: right;\">\n",
       "      <th></th>\n",
       "      <th>abbr</th>\n",
       "      <th>cir_cap</th>\n",
       "      <th>cir_val</th>\n",
       "      <th>code</th>\n",
       "      <th>main_scope</th>\n",
       "      <th>net_profit</th>\n",
       "      <th>tot_cap</th>\n",
       "      <th>tot_val</th>\n",
       "    </tr>\n",
       "  </thead>\n",
       "  <tbody>\n",
       "    <tr>\n",
       "      <th>0</th>\n",
       "      <td>国农科技</td>\n",
       "      <td>8260.46</td>\n",
       "      <td>240131.53</td>\n",
       "      <td>a000004</td>\n",
       "      <td>生物医药88.66%,移动网络10.95%,其他业务0.39%</td>\n",
       "      <td>381.60</td>\n",
       "      <td>16505.26</td>\n",
       "      <td>479807.98</td>\n",
       "    </tr>\n",
       "    <tr>\n",
       "      <th>1</th>\n",
       "      <td>万方发展</td>\n",
       "      <td>30940.00</td>\n",
       "      <td>124997.60</td>\n",
       "      <td>a000638</td>\n",
       "      <td>软件88.13%,金融其他11.87%</td>\n",
       "      <td>-626.93</td>\n",
       "      <td>30940.00</td>\n",
       "      <td>124997.60</td>\n",
       "    </tr>\n",
       "    <tr>\n",
       "      <th>2</th>\n",
       "      <td>顺利办</td>\n",
       "      <td>70720.16</td>\n",
       "      <td>306925.50</td>\n",
       "      <td>a000606</td>\n",
       "      <td>企业互联100.00%</td>\n",
       "      <td>--</td>\n",
       "      <td>76579.94</td>\n",
       "      <td>332356.92</td>\n",
       "    </tr>\n",
       "    <tr>\n",
       "      <th>3</th>\n",
       "      <td>神州信息</td>\n",
       "      <td>96342.05</td>\n",
       "      <td>1436459.93</td>\n",
       "      <td>a000555</td>\n",
       "      <td>金融41.91%,政企32.09%,运营商18.69%,其他7.31%</td>\n",
       "      <td>2946.50</td>\n",
       "      <td>97038.13</td>\n",
       "      <td>1446838.48</td>\n",
       "    </tr>\n",
       "    <tr>\n",
       "      <th>4</th>\n",
       "      <td>国新健康</td>\n",
       "      <td>89877.99</td>\n",
       "      <td>937427.47</td>\n",
       "      <td>a000503</td>\n",
       "      <td>服务业100.00%</td>\n",
       "      <td>-7118.24</td>\n",
       "      <td>89882.22</td>\n",
       "      <td>937471.56</td>\n",
       "    </tr>\n",
       "  </tbody>\n",
       "</table>\n",
       "</div>"
      ],
      "text/plain": [
       "   abbr   cir_cap     cir_val     code                           main_scope  \\\n",
       "0  国农科技   8260.46   240131.53  a000004      生物医药88.66%,移动网络10.95%,其他业务0.39%   \n",
       "1  万方发展  30940.00   124997.60  a000638                  软件88.13%,金融其他11.87%   \n",
       "2   顺利办  70720.16   306925.50  a000606                          企业互联100.00%   \n",
       "3  神州信息  96342.05  1436459.93  a000555  金融41.91%,政企32.09%,运营商18.69%,其他7.31%   \n",
       "4  国新健康  89877.99   937427.47  a000503                           服务业100.00%   \n",
       "\n",
       "  net_profit   tot_cap     tot_val  \n",
       "0     381.60  16505.26   479807.98  \n",
       "1    -626.93  30940.00   124997.60  \n",
       "2         --  76579.94   332356.92  \n",
       "3    2946.50  97038.13  1446838.48  \n",
       "4   -7118.24  89882.22   937471.56  "
      ]
     },
     "execution_count": 6,
     "metadata": {},
     "output_type": "execute_result"
    }
   ],
   "source": [
    "data.head()"
   ]
  },
  {
   "cell_type": "code",
   "execution_count": 7,
   "metadata": {
    "ExecuteTime": {
     "end_time": "2020-05-21T02:12:43.059892Z",
     "start_time": "2020-05-21T02:12:43.023866Z"
    }
   },
   "outputs": [],
   "source": [
    "data['main_scope']= data['main_scope'].fillna('1111')"
   ]
  },
  {
   "cell_type": "code",
   "execution_count": 8,
   "metadata": {
    "ExecuteTime": {
     "end_time": "2020-05-21T02:12:43.870968Z",
     "start_time": "2020-05-21T02:12:43.865966Z"
    }
   },
   "outputs": [],
   "source": [
    "data['net_profit']= data['net_profit'].replace(' --',np.nan)"
   ]
  },
  {
   "cell_type": "code",
   "execution_count": 9,
   "metadata": {
    "ExecuteTime": {
     "end_time": "2020-05-21T02:12:45.176379Z",
     "start_time": "2020-05-21T02:12:45.134347Z"
    }
   },
   "outputs": [
    {
     "data": {
      "text/plain": [
       " 27436.01     2\n",
       " 441.44       2\n",
       " -264.14      1\n",
       " -3057.37     1\n",
       " -1344.46     1\n",
       "             ..\n",
       " 214638.30    1\n",
       " 2738.29      1\n",
       " -2542.75     1\n",
       " -1155.33     1\n",
       " 5297.19      1\n",
       "Name: net_profit, Length: 274, dtype: int64"
      ]
     },
     "execution_count": 9,
     "metadata": {},
     "output_type": "execute_result"
    }
   ],
   "source": [
    "data['net_profit'].value_counts()"
   ]
  },
  {
   "cell_type": "code",
   "execution_count": 10,
   "metadata": {
    "ExecuteTime": {
     "end_time": "2020-05-21T02:12:46.010948Z",
     "start_time": "2020-05-21T02:12:45.995938Z"
    }
   },
   "outputs": [
    {
     "name": "stdout",
     "output_type": "stream",
     "text": [
      "<class 'pandas.core.frame.DataFrame'>\n",
      "RangeIndex: 290 entries, 0 to 289\n",
      "Data columns (total 8 columns):\n",
      "abbr          290 non-null object\n",
      "cir_cap       290 non-null float64\n",
      "cir_val       290 non-null float64\n",
      "code          290 non-null object\n",
      "main_scope    290 non-null object\n",
      "net_profit    276 non-null object\n",
      "tot_cap       290 non-null float64\n",
      "tot_val       290 non-null float64\n",
      "dtypes: float64(4), object(4)\n",
      "memory usage: 18.2+ KB\n"
     ]
    }
   ],
   "source": [
    "data.info()"
   ]
  },
  {
   "cell_type": "code",
   "execution_count": 11,
   "metadata": {
    "ExecuteTime": {
     "end_time": "2020-05-21T02:12:46.753332Z",
     "start_time": "2020-05-21T02:12:46.747325Z"
    }
   },
   "outputs": [],
   "source": [
    "data['main_scope']= data['main_scope'].apply(lambda x:x[:4])"
   ]
  },
  {
   "cell_type": "code",
   "execution_count": 12,
   "metadata": {
    "ExecuteTime": {
     "end_time": "2020-05-21T02:12:47.679556Z",
     "start_time": "2020-05-21T02:12:47.670551Z"
    }
   },
   "outputs": [
    {
     "data": {
      "text/plain": [
       "软件和信    20\n",
       "信息技术     9\n",
       "1111     8\n",
       "智慧城市     7\n",
       "有线电视     7\n",
       "        ..\n",
       "资管业务     1\n",
       "收单业务     1\n",
       "互联网服     1\n",
       "文化娱乐     1\n",
       "营销托管     1\n",
       "Name: main_scope, Length: 182, dtype: int64"
      ]
     },
     "execution_count": 12,
     "metadata": {},
     "output_type": "execute_result"
    }
   ],
   "source": [
    "data['main_scope'].value_counts()"
   ]
  },
  {
   "cell_type": "markdown",
   "metadata": {},
   "source": [
    "\n",
    "## 创建一个se  label"
   ]
  },
  {
   "cell_type": "code",
   "execution_count": 13,
   "metadata": {
    "ExecuteTime": {
     "end_time": "2020-05-21T02:12:53.951314Z",
     "start_time": "2020-05-21T02:12:53.941305Z"
    }
   },
   "outputs": [
    {
     "data": {
      "text/plain": [
       " 27436.01     2\n",
       " 441.44       2\n",
       " -264.14      1\n",
       " -3057.37     1\n",
       " -1344.46     1\n",
       "             ..\n",
       " 214638.30    1\n",
       " 2738.29      1\n",
       " -2542.75     1\n",
       " -1155.33     1\n",
       " 5297.19      1\n",
       "Name: net_profit, Length: 274, dtype: int64"
      ]
     },
     "execution_count": 13,
     "metadata": {},
     "output_type": "execute_result"
    }
   ],
   "source": [
    "data['net_profit'].value_counts()"
   ]
  },
  {
   "cell_type": "code",
   "execution_count": 14,
   "metadata": {
    "ExecuteTime": {
     "end_time": "2020-05-21T02:12:54.903987Z",
     "start_time": "2020-05-21T02:12:54.897983Z"
    }
   },
   "outputs": [],
   "source": [
    "data['net_profit']= data['net_profit'].apply(lambda x:x.strip() if type(x)==str else x)"
   ]
  },
  {
   "cell_type": "code",
   "execution_count": 15,
   "metadata": {
    "ExecuteTime": {
     "end_time": "2020-05-21T02:12:55.946213Z",
     "start_time": "2020-05-21T02:12:55.941208Z"
    }
   },
   "outputs": [],
   "source": [
    "data['net_profit']= data['net_profit'].fillna(-1)"
   ]
  },
  {
   "cell_type": "code",
   "execution_count": 17,
   "metadata": {
    "ExecuteTime": {
     "end_time": "2020-05-21T02:13:33.766379Z",
     "start_time": "2020-05-21T02:13:33.700043Z"
    }
   },
   "outputs": [],
   "source": [
    "data['net_profit']= data['net_profit'].astype(float)"
   ]
  },
  {
   "cell_type": "code",
   "execution_count": 19,
   "metadata": {
    "ExecuteTime": {
     "end_time": "2020-05-21T02:13:56.546610Z",
     "start_time": "2020-05-21T02:13:56.343449Z"
    }
   },
   "outputs": [
    {
     "data": {
      "text/plain": [
       "[<matplotlib.lines.Line2D at 0xa56cd862b0>]"
      ]
     },
     "execution_count": 19,
     "metadata": {},
     "output_type": "execute_result"
    },
    {
     "data": {
      "image/png": "[encoded data removed]",
      "text/plain": [
       "<Figure size 432x288 with 1 Axes>"
      ]
     },
     "metadata": {
      "needs_background": "light"
     },
     "output_type": "display_data"
    }
   ],
   "source": [
    "plt.plot(data['net_profit'])"
   ]
  },
  {
   "cell_type": "code",
   "execution_count": null,
   "metadata": {
    "ExecuteTime": {
     "end_time": "2020-05-21T02:14:55.904136Z",
     "start_time": "2020-05-21T02:14:55.691968Z"
    }
   },
   "outputs": [],
   "source": [
    "plt.plot(data['tot_val'])"
   ]
  },
  {
   "cell_type": "code",
   "execution_count": 75,
   "metadata": {
    "ExecuteTime": {
     "end_time": "2020-05-21T02:57:10.178773Z",
     "start_time": "2020-05-21T02:57:08.507589Z"
    }
   },
   "outputs": [
    {
     "data": {
      "text/plain": [
       "<matplotlib.legend.Legend at 0xa5148e4a58>"
      ]
     },
     "execution_count": 75,
     "metadata": {},
     "output_type": "execute_result"
    },
    {
     "data": {
      "image/png": "[encoded data removed]",
      "text/plain": [
       "<Figure size 720x360 with 2 Axes>"
      ]
     },
     "metadata": {
      "needs_background": "light"
     },
     "output_type": "display_data"
    }
   ],
   "source": [
    "fig=plt.figure(figsize=(10,5))\n",
    "ax=fig.add_subplot(111)\n",
    "\n",
    "x=np.arange(290)\n",
    "ax.bar(x,data['tot_val'],label='tot_val')\n",
    "ax.legend(loc=0)\n",
    "ax2=plt.twinx()\n",
    "ax2.plot(x,data['net_profit'],color='red',label='net_profit')\n",
    "\n",
    "ax2.legend(loc='upper left')"
   ]
  },
  {
   "cell_type": "code",
   "execution_count": 15,
   "metadata": {
    "ExecuteTime": {
     "end_time": "2020-05-17T13:27:28.284198Z",
     "start_time": "2020-05-17T13:27:28.138432Z"
    }
   },
   "outputs": [],
   "source": [
    "data['se']=data['tot_val']/data['net_profit']"
   ]
  },
  {
   "cell_type": "code",
   "execution_count": 16,
   "metadata": {
    "ExecuteTime": {
     "end_time": "2020-05-17T13:27:28.438312Z",
     "start_time": "2020-05-17T13:27:28.289162Z"
    }
   },
   "outputs": [],
   "source": [
    "data['se']=round(data['se'],2)"
   ]
  },
  {
   "cell_type": "markdown",
   "metadata": {
    "ExecuteTime": {
     "end_time": "2020-05-17T13:03:50.014893Z",
     "start_time": "2020-05-17T13:03:50.010891Z"
    }
   },
   "source": [
    "# se是市盈率"
   ]
  },
  {
   "cell_type": "code",
   "execution_count": 17,
   "metadata": {
    "ExecuteTime": {
     "end_time": "2020-05-17T13:27:28.594688Z",
     "start_time": "2020-05-17T13:27:28.447311Z"
    }
   },
   "outputs": [],
   "source": [
    "data['se']= data['se'].apply(lambda x:np.nan if x<0 else x)"
   ]
  },
  {
   "cell_type": "code",
   "execution_count": 18,
   "metadata": {
    "ExecuteTime": {
     "end_time": "2020-05-17T13:27:28.809583Z",
     "start_time": "2020-05-17T13:27:28.604688Z"
    }
   },
   "outputs": [],
   "source": [
    "data=data.dropna()"
   ]
  },
  {
   "cell_type": "code",
   "execution_count": 19,
   "metadata": {
    "ExecuteTime": {
     "end_time": "2020-05-17T13:27:29.055347Z",
     "start_time": "2020-05-17T13:27:28.819560Z"
    }
   },
   "outputs": [
    {
     "name": "stdout",
     "output_type": "stream",
     "text": [
      "<class 'pandas.core.frame.DataFrame'>\n",
      "Int64Index: 167 entries, 0 to 287\n",
      "Data columns (total 9 columns):\n",
      "abbr          167 non-null object\n",
      "cir_cap       167 non-null float64\n",
      "cir_val       167 non-null float64\n",
      "code          167 non-null object\n",
      "main_scope    167 non-null object\n",
      "net_profit    167 non-null float64\n",
      "tot_cap       167 non-null float64\n",
      "tot_val       167 non-null float64\n",
      "se            167 non-null float64\n",
      "dtypes: float64(6), object(3)\n",
      "memory usage: 13.0+ KB\n"
     ]
    }
   ],
   "source": [
    "data.info()"
   ]
  },
  {
   "cell_type": "markdown",
   "metadata": {},
   "source": [
    "### 把净利润为负数的企业去掉后290-167，可见疫情对经济的冲击力"
   ]
  },
  {
   "cell_type": "code",
   "execution_count": 20,
   "metadata": {
    "ExecuteTime": {
     "end_time": "2020-05-17T13:27:29.206585Z",
     "start_time": "2020-05-17T13:27:29.062354Z"
    }
   },
   "outputs": [
    {
     "data": {
      "text/plain": [
       "0      1357.27\n",
       "1       159.80\n",
       "2       653.74\n",
       "3       439.29\n",
       "4        55.53\n",
       "        ...   \n",
       "281     640.81\n",
       "282      90.15\n",
       "283      73.29\n",
       "284      18.34\n",
       "287     523.31\n",
       "Name: se, Length: 167, dtype: float64"
      ]
     },
     "execution_count": 20,
     "metadata": {},
     "output_type": "execute_result"
    }
   ],
   "source": [
    "data['se']"
   ]
  },
  {
   "cell_type": "code",
   "execution_count": 21,
   "metadata": {
    "ExecuteTime": {
     "end_time": "2020-05-17T13:27:29.376890Z",
     "start_time": "2020-05-17T13:27:29.212586Z"
    }
   },
   "outputs": [
    {
     "data": {
      "text/plain": [
       "count      167.000000\n",
       "mean      1068.434551\n",
       "std       2886.551352\n",
       "min          2.830000\n",
       "25%        138.925000\n",
       "50%        369.130000\n",
       "75%        794.255000\n",
       "max      24178.620000\n",
       "Name: se, dtype: float64"
      ]
     },
     "execution_count": 21,
     "metadata": {},
     "output_type": "execute_result"
    }
   ],
   "source": [
    "data['se'].describe()"
   ]
  },
  {
   "cell_type": "code",
   "execution_count": 22,
   "metadata": {
    "ExecuteTime": {
     "end_time": "2020-05-17T13:27:29.710175Z",
     "start_time": "2020-05-17T13:27:29.386897Z"
    }
   },
   "outputs": [
    {
     "data": {
      "text/html": [
       "<div>\n",
       "<style scoped>\n",
       "    .dataframe tbody tr th:only-of-type {\n",
       "        vertical-align: middle;\n",
       "    }\n",
       "\n",
       "    .dataframe tbody tr th {\n",
       "        vertical-align: top;\n",
       "    }\n",
       "\n",
       "    .dataframe thead th {\n",
       "        text-align: right;\n",
       "    }\n",
       "</style>\n",
       "<table border=\"1\" class=\"dataframe\">\n",
       "  <thead>\n",
       "    <tr style=\"text-align: right;\">\n",
       "      <th></th>\n",
       "      <th>abbr</th>\n",
       "      <th>cir_cap</th>\n",
       "      <th>cir_val</th>\n",
       "      <th>code</th>\n",
       "      <th>main_scope</th>\n",
       "      <th>net_profit</th>\n",
       "      <th>tot_cap</th>\n",
       "      <th>tot_val</th>\n",
       "      <th>se</th>\n",
       "    </tr>\n",
       "  </thead>\n",
       "  <tbody>\n",
       "    <tr>\n",
       "      <th>27</th>\n",
       "      <td>云赛Ｂ股</td>\n",
       "      <td>29337.05</td>\n",
       "      <td>14697.86</td>\n",
       "      <td>a900901</td>\n",
       "      <td>工业61</td>\n",
       "      <td>24179.08</td>\n",
       "      <td>136767.35</td>\n",
       "      <td>68520.44</td>\n",
       "      <td>2.83</td>\n",
       "    </tr>\n",
       "    <tr>\n",
       "      <th>278</th>\n",
       "      <td>*ST东网</td>\n",
       "      <td>75374.88</td>\n",
       "      <td>134167.28</td>\n",
       "      <td>a002175</td>\n",
       "      <td>计量器具</td>\n",
       "      <td>15311.49</td>\n",
       "      <td>75377.82</td>\n",
       "      <td>134172.52</td>\n",
       "      <td>8.76</td>\n",
       "    </tr>\n",
       "    <tr>\n",
       "      <th>26</th>\n",
       "      <td>宝信Ｂ</td>\n",
       "      <td>29744.00</td>\n",
       "      <td>66626.56</td>\n",
       "      <td>a900926</td>\n",
       "      <td>软件开发</td>\n",
       "      <td>27436.01</td>\n",
       "      <td>114037.03</td>\n",
       "      <td>255442.94</td>\n",
       "      <td>9.31</td>\n",
       "    </tr>\n",
       "    <tr>\n",
       "      <th>87</th>\n",
       "      <td>浙江富润</td>\n",
       "      <td>47909.70</td>\n",
       "      <td>431187.27</td>\n",
       "      <td>a600070</td>\n",
       "      <td>信息服务</td>\n",
       "      <td>48547.86</td>\n",
       "      <td>52194.61</td>\n",
       "      <td>469751.51</td>\n",
       "      <td>9.68</td>\n",
       "    </tr>\n",
       "    <tr>\n",
       "      <th>284</th>\n",
       "      <td>*ST天润</td>\n",
       "      <td>94080.71</td>\n",
       "      <td>129831.38</td>\n",
       "      <td>a002113</td>\n",
       "      <td>游戏运营</td>\n",
       "      <td>11533.97</td>\n",
       "      <td>153269.29</td>\n",
       "      <td>211511.62</td>\n",
       "      <td>18.34</td>\n",
       "    </tr>\n",
       "    <tr>\n",
       "      <th>...</th>\n",
       "      <td>...</td>\n",
       "      <td>...</td>\n",
       "      <td>...</td>\n",
       "      <td>...</td>\n",
       "      <td>...</td>\n",
       "      <td>...</td>\n",
       "      <td>...</td>\n",
       "      <td>...</td>\n",
       "      <td>...</td>\n",
       "    </tr>\n",
       "    <tr>\n",
       "      <th>153</th>\n",
       "      <td>腾信股份</td>\n",
       "      <td>25900.36</td>\n",
       "      <td>186482.59</td>\n",
       "      <td>a300392</td>\n",
       "      <td>互联网营</td>\n",
       "      <td>50.19</td>\n",
       "      <td>38400.00</td>\n",
       "      <td>276480.00</td>\n",
       "      <td>5508.67</td>\n",
       "    </tr>\n",
       "    <tr>\n",
       "      <th>166</th>\n",
       "      <td>长亮科技</td>\n",
       "      <td>35742.16</td>\n",
       "      <td>940018.85</td>\n",
       "      <td>a300348</td>\n",
       "      <td>软件开发</td>\n",
       "      <td>182.01</td>\n",
       "      <td>48181.03</td>\n",
       "      <td>1267161.01</td>\n",
       "      <td>6962.04</td>\n",
       "    </tr>\n",
       "    <tr>\n",
       "      <th>170</th>\n",
       "      <td>华虹计通</td>\n",
       "      <td>16771.97</td>\n",
       "      <td>149941.45</td>\n",
       "      <td>a300330</td>\n",
       "      <td>系统集成</td>\n",
       "      <td>11.98</td>\n",
       "      <td>16800.00</td>\n",
       "      <td>150192.00</td>\n",
       "      <td>12536.89</td>\n",
       "    </tr>\n",
       "    <tr>\n",
       "      <th>154</th>\n",
       "      <td>飞天诚信</td>\n",
       "      <td>21924.98</td>\n",
       "      <td>412408.97</td>\n",
       "      <td>a300386</td>\n",
       "      <td>信息安全</td>\n",
       "      <td>33.40</td>\n",
       "      <td>41804.40</td>\n",
       "      <td>786340.76</td>\n",
       "      <td>23543.14</td>\n",
       "    </tr>\n",
       "    <tr>\n",
       "      <th>90</th>\n",
       "      <td>金现代</td>\n",
       "      <td>8602.50</td>\n",
       "      <td>106240.88</td>\n",
       "      <td>a300830</td>\n",
       "      <td>1111</td>\n",
       "      <td>21.97</td>\n",
       "      <td>43012.50</td>\n",
       "      <td>531204.38</td>\n",
       "      <td>24178.62</td>\n",
       "    </tr>\n",
       "  </tbody>\n",
       "</table>\n",
       "<p>167 rows × 9 columns</p>\n",
       "</div>"
      ],
      "text/plain": [
       "      abbr   cir_cap    cir_val     code main_scope  net_profit    tot_cap  \\\n",
       "27    云赛Ｂ股  29337.05   14697.86  a900901       工业61    24179.08  136767.35   \n",
       "278  *ST东网  75374.88  134167.28  a002175       计量器具    15311.49   75377.82   \n",
       "26     宝信Ｂ  29744.00   66626.56  a900926       软件开发    27436.01  114037.03   \n",
       "87    浙江富润  47909.70  431187.27  a600070       信息服务    48547.86   52194.61   \n",
       "284  *ST天润  94080.71  129831.38  a002113       游戏运营    11533.97  153269.29   \n",
       "..     ...       ...        ...      ...        ...         ...        ...   \n",
       "153   腾信股份  25900.36  186482.59  a300392       互联网营       50.19   38400.00   \n",
       "166   长亮科技  35742.16  940018.85  a300348       软件开发      182.01   48181.03   \n",
       "170   华虹计通  16771.97  149941.45  a300330       系统集成       11.98   16800.00   \n",
       "154   飞天诚信  21924.98  412408.97  a300386       信息安全       33.40   41804.40   \n",
       "90     金现代   8602.50  106240.88  a300830       1111       21.97   43012.50   \n",
       "\n",
       "        tot_val        se  \n",
       "27     68520.44      2.83  \n",
       "278   134172.52      8.76  \n",
       "26    255442.94      9.31  \n",
       "87    469751.51      9.68  \n",
       "284   211511.62     18.34  \n",
       "..          ...       ...  \n",
       "153   276480.00   5508.67  \n",
       "166  1267161.01   6962.04  \n",
       "170   150192.00  12536.89  \n",
       "154   786340.76  23543.14  \n",
       "90    531204.38  24178.62  \n",
       "\n",
       "[167 rows x 9 columns]"
      ]
     },
     "execution_count": 22,
     "metadata": {},
     "output_type": "execute_result"
    }
   ],
   "source": [
    "data.sort_values('se')"
   ]
  },
  {
   "cell_type": "markdown",
   "metadata": {
    "ExecuteTime": {
     "end_time": "2020-05-17T13:05:39.315635Z",
     "start_time": "2020-05-17T13:05:39.311634Z"
    }
   },
   "source": [
    "# 设置当前股票价格price=总市值/总股本"
   ]
  },
  {
   "cell_type": "code",
   "execution_count": 23,
   "metadata": {
    "ExecuteTime": {
     "end_time": "2020-05-17T13:27:29.920408Z",
     "start_time": "2020-05-17T13:27:29.716170Z"
    }
   },
   "outputs": [],
   "source": [
    "data['price']=data['tot_val']/data['tot_cap']\n",
    "data['price']=round(data['price'],2)"
   ]
  },
  {
   "cell_type": "code",
   "execution_count": 24,
   "metadata": {
    "ExecuteTime": {
     "end_time": "2020-05-17T13:27:30.124589Z",
     "start_time": "2020-05-17T13:27:29.930418Z"
    }
   },
   "outputs": [
    {
     "data": {
      "text/html": [
       "<div>\n",
       "<style scoped>\n",
       "    .dataframe tbody tr th:only-of-type {\n",
       "        vertical-align: middle;\n",
       "    }\n",
       "\n",
       "    .dataframe tbody tr th {\n",
       "        vertical-align: top;\n",
       "    }\n",
       "\n",
       "    .dataframe thead th {\n",
       "        text-align: right;\n",
       "    }\n",
       "</style>\n",
       "<table border=\"1\" class=\"dataframe\">\n",
       "  <thead>\n",
       "    <tr style=\"text-align: right;\">\n",
       "      <th></th>\n",
       "      <th>abbr</th>\n",
       "      <th>cir_cap</th>\n",
       "      <th>cir_val</th>\n",
       "      <th>code</th>\n",
       "      <th>main_scope</th>\n",
       "      <th>net_profit</th>\n",
       "      <th>tot_cap</th>\n",
       "      <th>tot_val</th>\n",
       "      <th>se</th>\n",
       "      <th>price</th>\n",
       "    </tr>\n",
       "  </thead>\n",
       "  <tbody>\n",
       "    <tr>\n",
       "      <th>0</th>\n",
       "      <td>国农科技</td>\n",
       "      <td>8260.46</td>\n",
       "      <td>259213.18</td>\n",
       "      <td>a000004</td>\n",
       "      <td>生物医药</td>\n",
       "      <td>381.60</td>\n",
       "      <td>16505.26</td>\n",
       "      <td>517935.14</td>\n",
       "      <td>1357.27</td>\n",
       "      <td>31.38</td>\n",
       "    </tr>\n",
       "    <tr>\n",
       "      <th>1</th>\n",
       "      <td>生 意 宝</td>\n",
       "      <td>25163.81</td>\n",
       "      <td>489939.36</td>\n",
       "      <td>a002095</td>\n",
       "      <td>化工贸易</td>\n",
       "      <td>3079.21</td>\n",
       "      <td>25272.00</td>\n",
       "      <td>492045.84</td>\n",
       "      <td>159.80</td>\n",
       "      <td>19.47</td>\n",
       "    </tr>\n",
       "    <tr>\n",
       "      <th>2</th>\n",
       "      <td>国脉科技</td>\n",
       "      <td>100264.62</td>\n",
       "      <td>911405.35</td>\n",
       "      <td>a002093</td>\n",
       "      <td>企业38</td>\n",
       "      <td>1400.89</td>\n",
       "      <td>100750.00</td>\n",
       "      <td>915817.50</td>\n",
       "      <td>653.74</td>\n",
       "      <td>9.09</td>\n",
       "    </tr>\n",
       "    <tr>\n",
       "      <th>3</th>\n",
       "      <td>*ST凯瑞</td>\n",
       "      <td>17600.00</td>\n",
       "      <td>98032.00</td>\n",
       "      <td>a002072</td>\n",
       "      <td>互联网8</td>\n",
       "      <td>223.16</td>\n",
       "      <td>17600.00</td>\n",
       "      <td>98032.00</td>\n",
       "      <td>439.29</td>\n",
       "      <td>5.57</td>\n",
       "    </tr>\n",
       "    <tr>\n",
       "      <th>4</th>\n",
       "      <td>东华软件</td>\n",
       "      <td>280760.81</td>\n",
       "      <td>3770617.73</td>\n",
       "      <td>a002065</td>\n",
       "      <td>金融行业</td>\n",
       "      <td>75346.78</td>\n",
       "      <td>311548.24</td>\n",
       "      <td>4184092.83</td>\n",
       "      <td>55.53</td>\n",
       "      <td>13.43</td>\n",
       "    </tr>\n",
       "  </tbody>\n",
       "</table>\n",
       "</div>"
      ],
      "text/plain": [
       "    abbr    cir_cap     cir_val     code main_scope  net_profit    tot_cap  \\\n",
       "0   国农科技    8260.46   259213.18  a000004       生物医药      381.60   16505.26   \n",
       "1  生 意 宝   25163.81   489939.36  a002095       化工贸易     3079.21   25272.00   \n",
       "2   国脉科技  100264.62   911405.35  a002093       企业38     1400.89  100750.00   \n",
       "3  *ST凯瑞   17600.00    98032.00  a002072       互联网8      223.16   17600.00   \n",
       "4   东华软件  280760.81  3770617.73  a002065       金融行业    75346.78  311548.24   \n",
       "\n",
       "      tot_val       se  price  \n",
       "0   517935.14  1357.27  31.38  \n",
       "1   492045.84   159.80  19.47  \n",
       "2   915817.50   653.74   9.09  \n",
       "3    98032.00   439.29   5.57  \n",
       "4  4184092.83    55.53  13.43  "
      ]
     },
     "execution_count": 24,
     "metadata": {},
     "output_type": "execute_result"
    }
   ],
   "source": [
    "data.head()"
   ]
  },
  {
   "cell_type": "code",
   "execution_count": 25,
   "metadata": {
    "ExecuteTime": {
     "end_time": "2020-05-17T13:27:30.272277Z",
     "start_time": "2020-05-17T13:27:30.128575Z"
    }
   },
   "outputs": [
    {
     "data": {
      "text/plain": [
       "count    167.000000\n",
       "mean      29.786826\n",
       "std       52.123297\n",
       "min        0.500000\n",
       "25%        8.125000\n",
       "50%       14.860000\n",
       "75%       28.085000\n",
       "max      437.770000\n",
       "Name: price, dtype: float64"
      ]
     },
     "execution_count": 25,
     "metadata": {},
     "output_type": "execute_result"
    }
   ],
   "source": [
    "data['price'].describe()"
   ]
  },
  {
   "cell_type": "code",
   "execution_count": 26,
   "metadata": {
    "ExecuteTime": {
     "end_time": "2020-05-17T13:27:30.445226Z",
     "start_time": "2020-05-17T13:27:30.275280Z"
    }
   },
   "outputs": [
    {
     "data": {
      "text/html": [
       "<div>\n",
       "<style scoped>\n",
       "    .dataframe tbody tr th:only-of-type {\n",
       "        vertical-align: middle;\n",
       "    }\n",
       "\n",
       "    .dataframe tbody tr th {\n",
       "        vertical-align: top;\n",
       "    }\n",
       "\n",
       "    .dataframe thead th {\n",
       "        text-align: right;\n",
       "    }\n",
       "</style>\n",
       "<table border=\"1\" class=\"dataframe\">\n",
       "  <thead>\n",
       "    <tr style=\"text-align: right;\">\n",
       "      <th></th>\n",
       "      <th>abbr</th>\n",
       "      <th>cir_cap</th>\n",
       "      <th>cir_val</th>\n",
       "      <th>code</th>\n",
       "      <th>main_scope</th>\n",
       "      <th>net_profit</th>\n",
       "      <th>tot_cap</th>\n",
       "      <th>tot_val</th>\n",
       "      <th>se</th>\n",
       "      <th>price</th>\n",
       "    </tr>\n",
       "  </thead>\n",
       "  <tbody>\n",
       "    <tr>\n",
       "      <th>27</th>\n",
       "      <td>云赛Ｂ股</td>\n",
       "      <td>29337.05</td>\n",
       "      <td>14697.86</td>\n",
       "      <td>a900901</td>\n",
       "      <td>工业61</td>\n",
       "      <td>24179.08</td>\n",
       "      <td>136767.35</td>\n",
       "      <td>68520.44</td>\n",
       "      <td>2.83</td>\n",
       "      <td>0.50</td>\n",
       "    </tr>\n",
       "    <tr>\n",
       "      <th>250</th>\n",
       "      <td>*ST晨鑫</td>\n",
       "      <td>135014.80</td>\n",
       "      <td>153916.88</td>\n",
       "      <td>a002447</td>\n",
       "      <td>游戏行业</td>\n",
       "      <td>68.91</td>\n",
       "      <td>142719.30</td>\n",
       "      <td>162700.00</td>\n",
       "      <td>2361.05</td>\n",
       "      <td>1.14</td>\n",
       "    </tr>\n",
       "    <tr>\n",
       "      <th>284</th>\n",
       "      <td>*ST天润</td>\n",
       "      <td>94080.71</td>\n",
       "      <td>129831.38</td>\n",
       "      <td>a002113</td>\n",
       "      <td>游戏运营</td>\n",
       "      <td>11533.97</td>\n",
       "      <td>153269.29</td>\n",
       "      <td>211511.62</td>\n",
       "      <td>18.34</td>\n",
       "      <td>1.38</td>\n",
       "    </tr>\n",
       "    <tr>\n",
       "      <th>278</th>\n",
       "      <td>*ST东网</td>\n",
       "      <td>75374.88</td>\n",
       "      <td>134167.28</td>\n",
       "      <td>a002175</td>\n",
       "      <td>计量器具</td>\n",
       "      <td>15311.49</td>\n",
       "      <td>75377.82</td>\n",
       "      <td>134172.52</td>\n",
       "      <td>8.76</td>\n",
       "      <td>1.78</td>\n",
       "    </tr>\n",
       "    <tr>\n",
       "      <th>50</th>\n",
       "      <td>吉视传媒</td>\n",
       "      <td>311109.04</td>\n",
       "      <td>628440.26</td>\n",
       "      <td>a601929</td>\n",
       "      <td>有线电视</td>\n",
       "      <td>1069.75</td>\n",
       "      <td>311109.04</td>\n",
       "      <td>628440.26</td>\n",
       "      <td>587.46</td>\n",
       "      <td>2.02</td>\n",
       "    </tr>\n",
       "    <tr>\n",
       "      <th>...</th>\n",
       "      <td>...</td>\n",
       "      <td>...</td>\n",
       "      <td>...</td>\n",
       "      <td>...</td>\n",
       "      <td>...</td>\n",
       "      <td>...</td>\n",
       "      <td>...</td>\n",
       "      <td>...</td>\n",
       "      <td>...</td>\n",
       "      <td>...</td>\n",
       "    </tr>\n",
       "    <tr>\n",
       "      <th>111</th>\n",
       "      <td>富瀚微</td>\n",
       "      <td>4189.56</td>\n",
       "      <td>787636.34</td>\n",
       "      <td>a300613</td>\n",
       "      <td>集成电路</td>\n",
       "      <td>3034.14</td>\n",
       "      <td>4444.48</td>\n",
       "      <td>835562.24</td>\n",
       "      <td>275.39</td>\n",
       "      <td>188.00</td>\n",
       "    </tr>\n",
       "    <tr>\n",
       "      <th>96</th>\n",
       "      <td>值得买</td>\n",
       "      <td>1333.33</td>\n",
       "      <td>258506.68</td>\n",
       "      <td>a300785</td>\n",
       "      <td>信息推广</td>\n",
       "      <td>1898.58</td>\n",
       "      <td>5333.33</td>\n",
       "      <td>1034026.68</td>\n",
       "      <td>544.63</td>\n",
       "      <td>193.88</td>\n",
       "    </tr>\n",
       "    <tr>\n",
       "      <th>229</th>\n",
       "      <td>中新赛克</td>\n",
       "      <td>5182.00</td>\n",
       "      <td>1035881.80</td>\n",
       "      <td>a002912</td>\n",
       "      <td>政府63</td>\n",
       "      <td>3211.59</td>\n",
       "      <td>10672.00</td>\n",
       "      <td>2133332.80</td>\n",
       "      <td>664.26</td>\n",
       "      <td>199.90</td>\n",
       "    </tr>\n",
       "    <tr>\n",
       "      <th>94</th>\n",
       "      <td>壹网壹创</td>\n",
       "      <td>2000.00</td>\n",
       "      <td>691200.00</td>\n",
       "      <td>a300792</td>\n",
       "      <td>1111</td>\n",
       "      <td>4732.71</td>\n",
       "      <td>8013.90</td>\n",
       "      <td>2769603.84</td>\n",
       "      <td>585.20</td>\n",
       "      <td>345.60</td>\n",
       "    </tr>\n",
       "    <tr>\n",
       "      <th>40</th>\n",
       "      <td>吉比特</td>\n",
       "      <td>7186.46</td>\n",
       "      <td>3146014.49</td>\n",
       "      <td>a603444</td>\n",
       "      <td>游戏收入</td>\n",
       "      <td>32219.59</td>\n",
       "      <td>7186.46</td>\n",
       "      <td>3146014.49</td>\n",
       "      <td>97.64</td>\n",
       "      <td>437.77</td>\n",
       "    </tr>\n",
       "  </tbody>\n",
       "</table>\n",
       "<p>167 rows × 10 columns</p>\n",
       "</div>"
      ],
      "text/plain": [
       "      abbr    cir_cap     cir_val     code main_scope  net_profit    tot_cap  \\\n",
       "27    云赛Ｂ股   29337.05    14697.86  a900901       工业61    24179.08  136767.35   \n",
       "250  *ST晨鑫  135014.80   153916.88  a002447       游戏行业       68.91  142719.30   \n",
       "284  *ST天润   94080.71   129831.38  a002113       游戏运营    11533.97  153269.29   \n",
       "278  *ST东网   75374.88   134167.28  a002175       计量器具    15311.49   75377.82   \n",
       "50    吉视传媒  311109.04   628440.26  a601929       有线电视     1069.75  311109.04   \n",
       "..     ...        ...         ...      ...        ...         ...        ...   \n",
       "111    富瀚微    4189.56   787636.34  a300613       集成电路     3034.14    4444.48   \n",
       "96     值得买    1333.33   258506.68  a300785       信息推广     1898.58    5333.33   \n",
       "229   中新赛克    5182.00  1035881.80  a002912       政府63     3211.59   10672.00   \n",
       "94    壹网壹创    2000.00   691200.00  a300792       1111     4732.71    8013.90   \n",
       "40     吉比特    7186.46  3146014.49  a603444       游戏收入    32219.59    7186.46   \n",
       "\n",
       "        tot_val       se   price  \n",
       "27     68520.44     2.83    0.50  \n",
       "250   162700.00  2361.05    1.14  \n",
       "284   211511.62    18.34    1.38  \n",
       "278   134172.52     8.76    1.78  \n",
       "50    628440.26   587.46    2.02  \n",
       "..          ...      ...     ...  \n",
       "111   835562.24   275.39  188.00  \n",
       "96   1034026.68   544.63  193.88  \n",
       "229  2133332.80   664.26  199.90  \n",
       "94   2769603.84   585.20  345.60  \n",
       "40   3146014.49    97.64  437.77  \n",
       "\n",
       "[167 rows x 10 columns]"
      ]
     },
     "execution_count": 26,
     "metadata": {},
     "output_type": "execute_result"
    }
   ],
   "source": [
    "data.sort_values('price')"
   ]
  },
  {
   "cell_type": "code",
   "execution_count": 30,
   "metadata": {
    "ExecuteTime": {
     "end_time": "2020-05-17T13:28:50.078703Z",
     "start_time": "2020-05-17T13:28:47.965070Z"
    }
   },
   "outputs": [
    {
     "data": {
      "image/png": "[encoded data removed]",
      "text/plain": [
       "<Figure size 432x288 with 1 Axes>"
      ]
     },
     "metadata": {
      "needs_background": "light"
     },
     "output_type": "display_data"
    }
   ],
   "source": [
    "plt.bar(data['abbr'],data['se'])\n",
    "plt.show()"
   ]
  },
  {
   "cell_type": "code",
   "execution_count": 29,
   "metadata": {
    "ExecuteTime": {
     "end_time": "2020-05-17T13:28:40.181788Z",
     "start_time": "2020-05-17T13:28:38.106556Z"
    }
   },
   "outputs": [
    {
     "data": {
      "image/png": "[encoded data removed]",
      "text/plain": [
       "<Figure size 432x288 with 1 Axes>"
      ]
     },
     "metadata": {
      "needs_background": "light"
     },
     "output_type": "display_data"
    }
   ],
   "source": [
    "plt.bar(data['abbr'],data['price'])\n",
    "pltt.title()\n",
    "plt.show()"
   ]
  },
  {
   "cell_type": "code",
   "execution_count": 1,
   "metadata": {
    "ExecuteTime": {
     "end_time": "2020-05-21T01:46:47.126198Z",
     "start_time": "2020-05-21T01:46:44.915077Z"
    }
   },
   "outputs": [
    {
     "ename": "NameError",
     "evalue": "name 'sns' is not defined",
     "output_type": "error",
     "traceback": [
      "\u001b[1;31m---------------------------------------------------------------------------\u001b[0m",
      "\u001b[1;31mNameError\u001b[0m                                 Traceback (most recent call last)",
      "\u001b[1;32m<ipython-input-1-3ced85606312>\u001b[0m in \u001b[0;36m<module>\u001b[1;34m\u001b[0m\n\u001b[1;32m----> 1\u001b[1;33m \u001b[0msns\u001b[0m\u001b[1;33m.\u001b[0m\u001b[0mjointplot\u001b[0m\u001b[1;33m(\u001b[0m\u001b[0mx\u001b[0m\u001b[1;33m=\u001b[0m\u001b[0mdata\u001b[0m\u001b[1;33m[\u001b[0m\u001b[1;34m'price'\u001b[0m\u001b[1;33m]\u001b[0m\u001b[1;33m,\u001b[0m\u001b[0my\u001b[0m\u001b[1;33m=\u001b[0m\u001b[0mdata\u001b[0m\u001b[1;33m[\u001b[0m\u001b[1;34m'se'\u001b[0m\u001b[1;33m]\u001b[0m\u001b[1;33m)\u001b[0m\u001b[1;33m\u001b[0m\u001b[1;33m\u001b[0m\u001b[0m\n\u001b[0m",
      "\u001b[1;31mNameError\u001b[0m: name 'sns' is not defined"
     ]
    }
   ],
   "source": [
    "sns.jointplot(x=data['price'],y=data['se'])"
   ]
  },
  {
   "cell_type": "code",
   "execution_count": null,
   "metadata": {},
   "outputs": [],
   "source": [
    "plt.plot(data['abbr'],data['price'])\n",
    "plt.plot(data['abbr'],data['se'])"
   ]
  }
 ],
 "metadata": {
  "kernelspec": {
   "display_name": "Python 3",
   "language": "python",
   "name": "python3"
  },
  "language_info": {
   "codemirror_mode": {
    "name": "ipython",
    "version": 3
   },
   "file_extension": ".py",
   "mimetype": "text/x-python",
   "name": "python",
   "nbconvert_exporter": "python",
   "pygments_lexer": "ipython3",
   "version": "3.7.2"
  }
 },
 "nbformat": 4,
 "nbformat_minor": 4
}
